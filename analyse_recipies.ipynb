{
 "metadata": {
  "name": "analyse_recipies"
 },
 "nbformat": 3,
 "nbformat_minor": 0,
 "worksheets": [
  {
   "cells": [
    {
     "cell_type": "markdown",
     "metadata": {},
     "source": [
      "Analysis of recipies\n",
      "==\n",
      "\n",
      "In the following we take a look at some of the recipie data that has been obtained at the Melb OSW 2014."
     ]
    },
    {
     "cell_type": "code",
     "collapsed": false,
     "input": [
      "import networkx as nx\n",
      "import csv\n",
      "import collections\n",
      "import matplotlib.pyplot as plt"
     ],
     "language": "python",
     "metadata": {},
     "outputs": [],
     "prompt_number": 7
    },
    {
     "cell_type": "code",
     "collapsed": false,
     "input": [
      "g = nx.Graph()"
     ],
     "language": "python",
     "metadata": {},
     "outputs": [],
     "prompt_number": 3
    },
    {
     "cell_type": "code",
     "collapsed": false,
     "input": [
      "with open(\"data.csv\", \"rb\") as datafile:\n",
      "    dr = csv.reader(datafile)\n",
      "    dr.next() # disregard first row that is the header\n",
      "    \n",
      "    dishmap = collections.defaultdict(list)\n",
      "    \n",
      "    # Todo:\n",
      "    for r in dr:\n",
      "        dish = r[0]\n",
      "        ingredient = r[1]\n",
      "        dishmap[dish].append(ingredient)\n",
      "        g.add_node(ingredient)\n",
      "    \n",
      "    # Worst possible way to do this.\n",
      "    for n1 in g.nodes():\n",
      "        for n2 in g.nodes():\n",
      "            for (k,v) in dishmap.iteritems():\n",
      "                if n1 in v and n2 in v:\n",
      "                    g.add_edge(n1, n2)"
     ],
     "language": "python",
     "metadata": {},
     "outputs": [],
     "prompt_number": 14
    },
    {
     "cell_type": "code",
     "collapsed": false,
     "input": [
      "nx.draw(g)"
     ],
     "language": "python",
     "metadata": {},
     "outputs": [],
     "prompt_number": 12
    }
   ],
   "metadata": {}
  }
 ]
}