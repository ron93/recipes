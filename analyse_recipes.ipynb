{
 "metadata": {
  "name": "analyse_recipes"
 },
 "nbformat": 3,
 "nbformat_minor": 0,
 "worksheets": [
  {
   "cells": [
    {
     "cell_type": "markdown",
     "metadata": {},
     "source": [
      "Analysis of recipes\n",
      "==\n",
      "\n",
      "In the following we take a look at some of the recipe data that has been obtained at the Melb OSW 2014."
     ]
    },
    {
     "cell_type": "code",
     "collapsed": false,
     "input": [
      "import networkx as nx\n",
      "import csv\n",
      "import collections\n",
      "import matplotlib.pyplot as plt"
     ],
     "language": "python",
     "metadata": {},
     "outputs": [],
     "prompt_number": 3
    },
    {
     "cell_type": "code",
     "collapsed": false,
     "input": [
      "g = nx.Graph()\n",
      "\n",
      "with open(\"data.csv\", \"rb\") as datafile:\n",
      "    dr = csv.reader(datafile)\n",
      "    dr.next() # disregard first row that is the header\n",
      "    \n",
      "    dishmap = collections.defaultdict(list)\n",
      "    \n",
      "    # Todo:\n",
      "    for r in dr:\n",
      "        code = r[0]\n",
      "        dish = r[1]\n",
      "        ingredient = r[2]\n",
      "        dishmap[code].append(ingredient)\n",
      "        g.add_node(ingredient)\n",
      "    \n",
      "    # Worst possible way to do this.\n",
      "    for n1 in g.nodes():\n",
      "        for n2 in g.nodes():\n",
      "            for (k,v) in dishmap.iteritems():\n",
      "                if n1 in v and n2 in v:\n",
      "                    g.add_edge(n1, n2, {\"dish\": k})"
     ],
     "language": "python",
     "metadata": {},
     "outputs": [],
     "prompt_number": 4
    },
    {
     "cell_type": "code",
     "collapsed": false,
     "input": [
      "labels = dict([((u,v,), d[\"dish\"]) for u,v,d in g.edges(data=True)])\n",
      "\n",
      "pos = nx.spring_layout(g)\n",
      "labels = nx.draw_networkx_edge_labels(g, pos, edge_labels=labels)\n",
      "\n",
      "nx.draw(g, pos)\n",
      "plt.show()"
     ],
     "language": "python",
     "metadata": {},
     "outputs": [],
     "prompt_number": 5
    },
    {
     "cell_type": "code",
     "collapsed": false,
     "input": [],
     "language": "python",
     "metadata": {},
     "outputs": []
    }
   ],
   "metadata": {}
  }
 ]
}